{
  "cells": [
    {
      "cell_type": "code",
      "execution_count": 1,
      "metadata": {
        "id": "rw2trGGto-4O"
      },
      "outputs": [],
      "source": [
        "# Import library numpy, pandas dan scikit-learn\n",
        "import numpy as np\n",
        "import pandas as pd\n",
        "from sklearn import tree"
      ]
    },
    {
      "cell_type": "code",
      "execution_count": 2,
      "metadata": {
        "id": "acy6kUs3phwJ"
      },
      "outputs": [],
      "source": [
        "# Membaca Dataset dari File ke Pandas dataFrame\n",
        "Dataset = pd.read_csv('dataset/lung cancer data.csv')"
      ]
    },
    {
      "cell_type": "code",
      "execution_count": 3,
      "metadata": {
        "id": "j2ZolV4uqjwO"
      },
      "outputs": [],
      "source": [
        "# Mengubah kelas (kolom \"Lung Cancer\") dari String ke Unique-Integer\n",
        "Dataset[\"LUNG_CANCER\"] = pd.factorize(Dataset.LUNG_CANCER)[0]"
      ]
    },
    {
      "cell_type": "code",
      "execution_count": 4,
      "metadata": {
        "id": "dG-3UdM3rUxu"
      },
      "outputs": [],
      "source": [
        "# Mengubah dataFrame ke array Numpy\n",
        "Dataset = Dataset.to_numpy()"
      ]
    },
    {
      "cell_type": "code",
      "execution_count": 5,
      "metadata": {
        "id": "yAN-UH4kriLH"
      },
      "outputs": [],
      "source": [
        "#Membagi Dataset => 80 baris data untuk training dan 20 baris data untuk testing\n",
        "# dataTraining = np.concatenate((Dataset[0:40, :], Dataset[50:90, :]), \n",
        "#                               axis=0)\n",
        "# dataTesting = np.concatenate((Dataset[40:50, :], Dataset[90:100, :]), \n",
        "#                              axis=0)\n"
      ]
    },
    {
      "cell_type": "code",
      "execution_count": 6,
      "metadata": {},
      "outputs": [
        {
          "name": "stdout",
          "output_type": "stream",
          "text": [
            "Bentuk dataTraining: (247, 16)\n",
            "Bentuk dataTesting: (62, 16)\n"
          ]
        }
      ],
      "source": [
        "from sklearn.model_selection import train_test_split\n",
        "# Membagi dataset menjadi 80% untuk pelatihan dan 20% untuk pengujian\n",
        "dataTraining, dataTesting = train_test_split(Dataset, test_size=0.2, random_state=0)\n",
        "\n",
        "# Menampilkan bentuk dataTraining dan dataTesting\n",
        "print(\"Bentuk dataTraining:\", dataTraining.shape)  \n",
        "print(\"Bentuk dataTesting:\", dataTesting.shape)   "
      ]
    },
    {
      "cell_type": "code",
      "execution_count": 7,
      "metadata": {
        "id": "4H9gup4Gs0aX"
      },
      "outputs": [],
      "source": [
        "#Memecah Dataset ke Input dan Label\n",
        "inputTraining = dataTraining[:, 0:15]\n",
        "inputTesting = dataTesting[:, 0:15]\n",
        "labelTraining = dataTraining[:, 15]\n",
        "labelTesting = dataTesting[:, 15]"
      ]
    },
    {
      "cell_type": "code",
      "execution_count": 8,
      "metadata": {},
      "outputs": [
        {
          "name": "stdout",
          "output_type": "stream",
          "text": [
            "[0 0 0 0 0 0 0 0 0 0 0 0 0 0 0 0 0 1 1 0 0 1 0 0 0 1 0 0 1 0 0 1 0 0 0 0 0\n",
            " 0 0 0 0 0 1 0 0 0 0 0 1 0 0 0 0 0 1 0 0 0 0 0 0 0 0 1 0 0 0 0 0 0 0 0 0 0\n",
            " 0 0 0 0 0 0 0 1 0 0 1 0 1 0 0 0 0 1 0 0 0 1 1 0 0 1 0 0 0 1 0 0 0 1 0 1 0\n",
            " 0 0 0 0 0 0 0 1 0 0 0 0 0 0 0 0 0 0 0 0 0 0 0 0 0 0 0 0 0 0 0 0 0 0 0 0 0\n",
            " 0 0 0 0 0 0 0 0 0 0 0 1 0 0 0 0 1 0 0 0 0 0 0 0 0 0 0 0 0 0 0 0 0 0 0 0 0\n",
            " 0 0 1 0 0 0 0 0 0 0 0 0 0 0 0 0 0 0 1 0 0 1 0 0 0 0 0 1 0 0 1 0 0 0 0 0 0\n",
            " 0 0 0 0 0 0 0 0 0 0 0 0 0 0 0 0 1 0 0 0 0 0 0 0 0]\n",
            "<class 'numpy.ndarray'>\n"
          ]
        }
      ],
      "source": [
        "print(labelTraining)\n",
        "print(type(labelTraining))"
      ]
    },
    {
      "cell_type": "code",
      "execution_count": 9,
      "metadata": {},
      "outputs": [],
      "source": [
        "# Membulatkan labelTraining\n",
        "labelTraining = labelTraining.astype(int)"
      ]
    },
    {
      "cell_type": "code",
      "execution_count": 10,
      "metadata": {},
      "outputs": [],
      "source": [
        "from sklearn.compose import ColumnTransformer\n",
        "from sklearn.preprocessing import OneHotEncoder\n",
        "\n",
        "ct = ColumnTransformer(transformers=[('encoder', OneHotEncoder(), [0])], remainder='passthrough')\n",
        "inputTraining = np.array(ct.fit_transform(inputTraining))\n",
        "inputTesting = np.array(ct.transform(inputTesting))  # Hanya transformasi, tidak fit ulang"
      ]
    },
    {
      "cell_type": "code",
      "execution_count": 11,
      "metadata": {},
      "outputs": [
        {
          "name": "stdout",
          "output_type": "stream",
          "text": [
            "Hasil transformasi inputTraining:\n",
            "[[1.0 0.0 51 ... 2 2 1]\n",
            " [0.0 1.0 72 ... 2 2 2]\n",
            " [0.0 1.0 59 ... 2 1 1]\n",
            " ...\n",
            " [1.0 0.0 51 ... 2 2 1]\n",
            " [1.0 0.0 64 ... 1 2 2]\n",
            " [0.0 1.0 56 ... 1 1 1]]\n"
          ]
        }
      ],
      "source": [
        "print(\"Hasil transformasi inputTraining:\")\n",
        "print(inputTraining)"
      ]
    },
    {
      "cell_type": "code",
      "execution_count": 12,
      "metadata": {
        "id": "kco04ijXtRvn"
      },
      "outputs": [],
      "source": [
        "# Mendefinisikan Decision Tree Classifier\n",
        "model = tree.DecisionTreeClassifier()"
      ]
    },
    {
      "cell_type": "code",
      "execution_count": 13,
      "metadata": {
        "id": "92Ji3zzNtcJG"
      },
      "outputs": [],
      "source": [
        "# Mentraining Model\n",
        "model = model.fit(inputTraining, labelTraining)"
      ]
    },
    {
      "cell_type": "code",
      "execution_count": 14,
      "metadata": {
        "id": "xPE9lX1PtlKW"
      },
      "outputs": [
        {
          "name": "stdout",
          "output_type": "stream",
          "text": [
            "Label Sebenarnya :  [0 0 0 1 0 0 0 0 0 0 0 0 0 0 1 0 0 0 1 1 0 0 0 0 1 1 0 0 0 0 0 0 0 0 0 0 0\n",
            " 0 0 0 0 0 0 0 0 1 0 0 0 1 0 1 0 0 0 0 0 1 0 0 0 0]\n",
            "Hasil Prediksi :  [0 0 0 0 0 0 0 0 0 0 0 0 0 0 1 0 0 1 1 0 0 0 0 0 1 1 0 0 0 0 0 0 0 0 0 0 0\n",
            " 0 0 0 0 0 0 0 0 0 0 0 0 0 0 1 0 0 0 0 0 0 0 0 0 0]\n"
          ]
        }
      ],
      "source": [
        "# Memprediksi Input Data Testing\n",
        "hasilPrediksi = model.predict(inputTesting)\n",
        "print(\"Label Sebenarnya : \", labelTesting)\n",
        "print(\"Hasil Prediksi : \", hasilPrediksi)"
      ]
    },
    {
      "cell_type": "code",
      "execution_count": 15,
      "metadata": {
        "id": "6SMAZMn4uBD1"
      },
      "outputs": [
        {
          "name": "stdout",
          "output_type": "stream",
          "text": [
            "Prediksi Benar : 56 data\n",
            "Prediksi Salah : 6 data\n",
            "Akurasi : 90.32258064516128 %\n"
          ]
        }
      ],
      "source": [
        "# Menghitung Akurasi\n",
        "prediksiBenar = (hasilPrediksi == labelTesting).sum()\n",
        "prediksiSalah = (hasilPrediksi != labelTesting).sum()\n",
        "print(\"Prediksi Benar :\", prediksiBenar, \"data\")\n",
        "print(\"Prediksi Salah :\", prediksiSalah, \"data\")\n",
        "print(\"Akurasi :\", prediksiBenar/(prediksiBenar+prediksiSalah) * 100, \"%\")"
      ]
    }
  ],
  "metadata": {
    "colab": {
      "name": "DecisionTree IrisCSV.ipynb",
      "provenance": []
    },
    "kernelspec": {
      "display_name": "Python 3",
      "name": "python3"
    },
    "language_info": {
      "codemirror_mode": {
        "name": "ipython",
        "version": 3
      },
      "file_extension": ".py",
      "mimetype": "text/x-python",
      "name": "python",
      "nbconvert_exporter": "python",
      "pygments_lexer": "ipython3",
      "version": "3.12.2"
    }
  },
  "nbformat": 4,
  "nbformat_minor": 0
}
