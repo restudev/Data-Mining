{
  "cells": [
    {
      "cell_type": "code",
      "execution_count": 1,
      "metadata": {
        "id": "rw2trGGto-4O"
      },
      "outputs": [],
      "source": [
        "# Import library numpy, pandas dan scikit-learn\n",
        "import numpy as np\n",
        "import pandas as pd\n",
        "from sklearn import tree"
      ]
    },
    {
      "cell_type": "code",
      "execution_count": 2,
      "metadata": {
        "id": "acy6kUs3phwJ"
      },
      "outputs": [],
      "source": [
        "# Membaca Dataset dari File ke Pandas dataFrame\n",
        "Dataset = pd.read_csv('dataset/fitness.csv')"
      ]
    },
    {
      "cell_type": "code",
      "execution_count": 3,
      "metadata": {},
      "outputs": [
        {
          "name": "stdout",
          "output_type": "stream",
          "text": [
            "                epoch (ms)  Accelerometer_x  Accelerometer_y  Accelerometer_z  \\\n",
            "0  2019-01-11 15:08:05.200         0.013500         0.977000        -0.071000   \n",
            "1  2019-01-11 15:08:05.400        -0.001500         0.970500        -0.079500   \n",
            "2  2019-01-11 15:08:05.600         0.001333         0.971667        -0.064333   \n",
            "3  2019-01-11 15:08:05.800        -0.024000         0.957000        -0.073500   \n",
            "4  2019-01-11 15:08:06.000        -0.028000         0.957667        -0.115000   \n",
            "\n",
            "   Gyroscope_x  Gyroscope_y  Gyroscope_z Participants  Label Category  Set  \n",
            "0      -1.8904       2.4392       0.9388            B  bench    heavy   30  \n",
            "1      -1.6826      -0.8904       2.1708            B  bench    heavy   30  \n",
            "2       2.5608      -0.2560      -1.4146            B  bench    heavy   30  \n",
            "3       8.0610      -4.5244      -2.0730            B  bench    heavy   30  \n",
            "4       2.4390      -1.5486      -3.6098            B  bench    heavy   30  \n"
          ]
        }
      ],
      "source": [
        "print(Dataset.head())"
      ]
    },
    {
      "cell_type": "code",
      "execution_count": 4,
      "metadata": {},
      "outputs": [],
      "source": [
        "# Menghapus kolom \"epoch (ms)\"\n",
        "Dataset = Dataset.drop(labels=\"epoch (ms)\", axis=1)"
      ]
    },
    {
      "cell_type": "code",
      "execution_count": 5,
      "metadata": {},
      "outputs": [
        {
          "name": "stdout",
          "output_type": "stream",
          "text": [
            "<class 'pandas.core.frame.DataFrame'>\n",
            "RangeIndex: 9009 entries, 0 to 9008\n",
            "Data columns (total 10 columns):\n",
            " #   Column           Non-Null Count  Dtype  \n",
            "---  ------           --------------  -----  \n",
            " 0   Accelerometer_x  9009 non-null   float64\n",
            " 1   Accelerometer_y  9009 non-null   float64\n",
            " 2   Accelerometer_z  9009 non-null   float64\n",
            " 3   Gyroscope_x      9009 non-null   float64\n",
            " 4   Gyroscope_y      9009 non-null   float64\n",
            " 5   Gyroscope_z      9009 non-null   float64\n",
            " 6   Participants     9009 non-null   object \n",
            " 7   Label            9009 non-null   object \n",
            " 8   Category         9009 non-null   object \n",
            " 9   Set              9009 non-null   int64  \n",
            "dtypes: float64(6), int64(1), object(3)\n",
            "memory usage: 704.0+ KB\n",
            "None\n"
          ]
        }
      ],
      "source": [
        "print(Dataset.info())"
      ]
    },
    {
      "cell_type": "code",
      "execution_count": 6,
      "metadata": {
        "id": "j2ZolV4uqjwO"
      },
      "outputs": [],
      "source": [
        "# Mengubah kelas (kolom \"Lung Canser\") dari String ke Unique-Integer\n",
        "Dataset[\"Category\"] = pd.factorize(Dataset.Category)[0]"
      ]
    },
    {
      "cell_type": "code",
      "execution_count": 7,
      "metadata": {
        "id": "dG-3UdM3rUxu"
      },
      "outputs": [],
      "source": [
        "# Mengubah dataFrame ke array Numpy\n",
        "Dataset = Dataset.to_numpy()"
      ]
    },
    {
      "cell_type": "code",
      "execution_count": 8,
      "metadata": {
        "id": "yAN-UH4kriLH"
      },
      "outputs": [],
      "source": [
        "# #Membagi Dataset => 80 baris data untuk training dan 20 baris data untuk testing\n",
        "# dataTraining = np.concatenate((Dataset[0:40, :], Dataset[50:90, :]), \n",
        "#                               axis=0)\n",
        "# dataTesting = np.concatenate((Dataset[40:50, :], Dataset[90:100, :]), \n",
        "#                              axis=0)\n"
      ]
    },
    {
      "cell_type": "code",
      "execution_count": 9,
      "metadata": {},
      "outputs": [
        {
          "name": "stdout",
          "output_type": "stream",
          "text": [
            "Bentuk dataTraining: (7207, 10)\n",
            "Bentuk dataTesting: (1802, 10)\n"
          ]
        }
      ],
      "source": [
        "from sklearn.model_selection import train_test_split\n",
        "# Membagi dataset menjadi 80% untuk pelatihan dan 20% untuk pengujian\n",
        "dataTraining, dataTesting = train_test_split(Dataset, test_size=0.2, random_state=0)\n",
        "\n",
        "# Menampilkan bentuk dataTraining dan dataTesting\n",
        "print(\"Bentuk dataTraining:\", dataTraining.shape)  \n",
        "print(\"Bentuk dataTesting:\", dataTesting.shape)   "
      ]
    },
    {
      "cell_type": "code",
      "execution_count": 10,
      "metadata": {
        "id": "4H9gup4Gs0aX"
      },
      "outputs": [],
      "source": [
        "# Memecah Dataset ke Input dan Label\n",
        "inputTraining = dataTraining[:, 0:9]  # Mengambil semua kolom input (kolom 1 sampai 9)\n",
        "inputTesting = dataTesting[:, 0:9]\n",
        "labelTraining = dataTraining[:, 8]  # Kolom ke-9 sebagai label\n",
        "labelTesting = dataTesting[:, 8]     # Kolom ke-9 sebagai label"
      ]
    },
    {
      "cell_type": "code",
      "execution_count": 11,
      "metadata": {},
      "outputs": [
        {
          "name": "stdout",
          "output_type": "stream",
          "text": [
            "[[-0.2263333333333333 1.074 -0.0303333333333333 ... 'A' 'ohp' 1]\n",
            " [0.031 -1.092 -0.073 ... 'E' 'dead' 1]\n",
            " [0.9743333333333334 -0.2733333333333334 -0.1286666666666666 ... 'A'\n",
            "  'rest' 2]\n",
            " ...\n",
            " [0.097 -1.1435 -0.0345 ... 'A' 'dead' 1]\n",
            " [0.1566666666666666 -1.1506666666666667 0.157 ... 'C' 'row' 0]\n",
            " [-0.352 0.8290000000000001 -0.2066666666666666 ... 'A' 'ohp' 0]]\n"
          ]
        }
      ],
      "source": [
        "print(inputTraining)"
      ]
    },
    {
      "cell_type": "code",
      "execution_count": 12,
      "metadata": {},
      "outputs": [
        {
          "name": "stdout",
          "output_type": "stream",
          "text": [
            "[1 1 2 ... 1 0 0]\n"
          ]
        }
      ],
      "source": [
        "print(labelTraining)"
      ]
    },
    {
      "cell_type": "code",
      "execution_count": 13,
      "metadata": {},
      "outputs": [],
      "source": [
        "# Membulatkan labelTraining\n",
        "labelTraining = labelTraining.astype(int)"
      ]
    },
    {
      "cell_type": "code",
      "execution_count": 14,
      "metadata": {},
      "outputs": [
        {
          "name": "stdout",
          "output_type": "stream",
          "text": [
            "Input Training:\n",
            " [[1.0 0.0 0.0 0.0 0.0 0.0 0.0 1.0 0.0 0.0 0.0 -0.2263333333333333 1.074\n",
            "  -0.0303333333333333 49.317 23.2806 -53.829600000000006 1]\n",
            " [0.0 0.0 0.0 0.0 1.0 0.0 1.0 0.0 0.0 0.0 0.0 0.031 -1.092 -0.073 9.0856\n",
            "  -8.2806 0.6462 1]\n",
            " [1.0 0.0 0.0 0.0 0.0 0.0 0.0 0.0 1.0 0.0 0.0 0.9743333333333334\n",
            "  -0.2733333333333334 -0.1286666666666666 4.6222 18.7562 -1.2196 2]\n",
            " [0.0 1.0 0.0 0.0 0.0 0.0 0.0 0.0 0.0 0.0 1.0 -0.259 0.872\n",
            "  0.4106666666666667 -8.1098 -4.8902 -1.7806000000000002 1]\n",
            " [0.0 0.0 0.0 0.0 1.0 0.0 0.0 0.0 0.0 1.0 0.0 -0.037 -1.030333333333333\n",
            "  -0.0533333333333333 -2.7684 -0.5854 2.244 1]]\n",
            "Input Testing:\n",
            " [[0.0 0.0 1.0 0.0 0.0 0.0 0.0 0.0 0.0 1.0 0.0 0.075 -1.4720000000000002\n",
            "  -0.107 40.0366 -38.0852 -22.988 0]\n",
            " [0.0 1.0 0.0 0.0 0.0 0.0 0.0 1.0 0.0 0.0 0.0 -0.422 0.9506666666666668\n",
            "  -0.385 2.634 8.4878 8.4758 1]\n",
            " [1.0 0.0 0.0 0.0 0.0 0.0 0.0 0.0 1.0 0.0 0.0 0.0856666666666666\n",
            "  -0.8543333333333334 0.4796666666666667 59.7682 -60.0486 -29.0366 3]\n",
            " [0.0 0.0 1.0 0.0 0.0 0.0 0.0 0.0 0.0 0.0 1.0 0.42 0.5696666666666667\n",
            "  0.5216666666666666 -4.4636 -13.3536 1.5244000000000002 0]\n",
            " [1.0 0.0 0.0 0.0 0.0 1.0 0.0 0.0 0.0 0.0 0.0 -0.0335 1.0125 -0.1175\n",
            "  4.6952 -4.1708 -1.0366 0]]\n"
          ]
        }
      ],
      "source": [
        "from sklearn.compose import ColumnTransformer\n",
        "from sklearn.preprocessing import OneHotEncoder\n",
        "\n",
        "ct = ColumnTransformer(transformers=[('encoder', OneHotEncoder(), [6,7])], remainder='passthrough')\n",
        "# Transformasi inputTraining dan inputTesting\n",
        "inputTraining = np.array(ct.fit_transform(inputTraining))\n",
        "inputTesting = np.array(ct.transform(inputTesting))  # Hanya transformasi, tidak fit ulang\n",
        "\n",
        "# Menampilkan hasil\n",
        "print(\"Input Training:\\n\", inputTraining[:5])  # Tampilkan 5 baris pertama\n",
        "print(\"Input Testing:\\n\", inputTesting[:5]) "
      ]
    },
    {
      "cell_type": "code",
      "execution_count": 15,
      "metadata": {
        "id": "kco04ijXtRvn"
      },
      "outputs": [],
      "source": [
        "# Mendefinisikan Decision Tree Classifier\n",
        "model = tree.DecisionTreeClassifier()"
      ]
    },
    {
      "cell_type": "code",
      "execution_count": 16,
      "metadata": {
        "id": "92Ji3zzNtcJG"
      },
      "outputs": [],
      "source": [
        "# Mentraining Model\n",
        "model = model.fit(inputTraining, labelTraining)"
      ]
    },
    {
      "cell_type": "code",
      "execution_count": 17,
      "metadata": {
        "id": "xPE9lX1PtlKW"
      },
      "outputs": [
        {
          "name": "stdout",
          "output_type": "stream",
          "text": [
            "Label Sebenarnya :  [0 1 3 ... 0 0 1]\n",
            "Hasil Prediksi :  [0 1 3 ... 0 0 1]\n"
          ]
        }
      ],
      "source": [
        "# Memprediksi Input Data Testing\n",
        "hasilPrediksi = model.predict(inputTesting)\n",
        "print(\"Label Sebenarnya : \", labelTesting)\n",
        "print(\"Hasil Prediksi : \", hasilPrediksi)"
      ]
    },
    {
      "cell_type": "code",
      "execution_count": 18,
      "metadata": {
        "id": "6SMAZMn4uBD1"
      },
      "outputs": [
        {
          "name": "stdout",
          "output_type": "stream",
          "text": [
            "Prediksi Benar : 1802 data\n",
            "Prediksi Salah : 0 data\n",
            "Akurasi : 100.0 %\n"
          ]
        }
      ],
      "source": [
        "# Menghitung Akurasi\n",
        "prediksiBenar = (hasilPrediksi == labelTesting).sum()\n",
        "prediksiSalah = (hasilPrediksi != labelTesting).sum()\n",
        "print(\"Prediksi Benar :\", prediksiBenar, \"data\")\n",
        "print(\"Prediksi Salah :\", prediksiSalah, \"data\")\n",
        "print(\"Akurasi :\", prediksiBenar/(prediksiBenar+prediksiSalah) * 100, \"%\")"
      ]
    }
  ],
  "metadata": {
    "colab": {
      "name": "DecisionTree IrisCSV.ipynb",
      "provenance": []
    },
    "kernelspec": {
      "display_name": "Python 3",
      "name": "python3"
    },
    "language_info": {
      "codemirror_mode": {
        "name": "ipython",
        "version": 3
      },
      "file_extension": ".py",
      "mimetype": "text/x-python",
      "name": "python",
      "nbconvert_exporter": "python",
      "pygments_lexer": "ipython3",
      "version": "3.12.2"
    }
  },
  "nbformat": 4,
  "nbformat_minor": 0
}
