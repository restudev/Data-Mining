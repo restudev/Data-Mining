{
 "cells": [
  {
   "cell_type": "code",
   "execution_count": 1,
   "metadata": {
    "id": "IklTYiWZVgVN"
   },
   "outputs": [],
   "source": [
    "#Import Library Scikit Learn untuk Decision Tree, Dataset & Matplotlib\n",
    "import numpy as np\n",
    "import pandas as pd\n",
    "from sklearn.model_selection import train_test_split\n",
    "from sklearn.tree import DecisionTreeClassifier, export_graphviz\n",
    "import pydotplus\n",
    "import matplotlib.pyplot as plt\n",
    "from sklearn import tree\n",
    "from IPython.display import Image, display"
   ]
  },
  {
   "cell_type": "code",
   "execution_count": 2,
   "metadata": {
    "id": "awYc77BNV88s"
   },
   "outputs": [],
   "source": [
    "# Load Dataset \n",
    "Dataset = pd.read_csv('dataset/fitness.csv')"
   ]
  },
  {
   "cell_type": "code",
   "execution_count": 3,
   "metadata": {},
   "outputs": [
    {
     "name": "stdout",
     "output_type": "stream",
     "text": [
      "                epoch (ms)  Accelerometer_x  Accelerometer_y  Accelerometer_z  \\\n",
      "0  2019-01-11 15:08:05.200         0.013500         0.977000        -0.071000   \n",
      "1  2019-01-11 15:08:05.400        -0.001500         0.970500        -0.079500   \n",
      "2  2019-01-11 15:08:05.600         0.001333         0.971667        -0.064333   \n",
      "3  2019-01-11 15:08:05.800        -0.024000         0.957000        -0.073500   \n",
      "4  2019-01-11 15:08:06.000        -0.028000         0.957667        -0.115000   \n",
      "\n",
      "   Gyroscope_x  Gyroscope_y  Gyroscope_z Participants  Label Category  Set  \n",
      "0      -1.8904       2.4392       0.9388            B  bench    heavy   30  \n",
      "1      -1.6826      -0.8904       2.1708            B  bench    heavy   30  \n",
      "2       2.5608      -0.2560      -1.4146            B  bench    heavy   30  \n",
      "3       8.0610      -4.5244      -2.0730            B  bench    heavy   30  \n",
      "4       2.4390      -1.5486      -3.6098            B  bench    heavy   30  \n"
     ]
    }
   ],
   "source": [
    "# Memeriksa beberapa baris pertama dari dataset\n",
    "print(Dataset.head())"
   ]
  },
  {
   "cell_type": "code",
   "execution_count": 4,
   "metadata": {},
   "outputs": [],
   "source": [
    "# Memisahkan fitur dan label\n",
    "# Asumsi kolom yang digunakan sebagai fitur adalah kolom 1 sampai 6 dan kolom 10, \n",
    "# dan kolom 'Category' sebagai label target.\n",
    "features = Dataset[['Accelerometer_x', 'Accelerometer_y', 'Accelerometer_z', \n",
    "             'Gyroscope_x', 'Gyroscope_y', 'Gyroscope_z']]\n",
    "target = Dataset['Category']  # Kolom label"
   ]
  },
  {
   "cell_type": "code",
   "execution_count": 5,
   "metadata": {
    "id": "Yg3xOE5dWZM7"
   },
   "outputs": [],
   "source": [
    "# Membuat Objek Model Decision Tree\n",
    "decisiontree = DecisionTreeClassifier(random_state=0, max_depth=None, \n",
    "                                      min_samples_split=2, min_samples_leaf=1,\n",
    "                                      min_weight_fraction_leaf=0,\n",
    "                                      max_leaf_nodes=None, \n",
    "                                      min_impurity_decrease=0)"
   ]
  },
  {
   "cell_type": "code",
   "execution_count": 6,
   "metadata": {
    "id": "rvS3w3ulaS-h"
   },
   "outputs": [],
   "source": [
    "#Mentraining Model Decision Tree\n",
    "model = decisiontree.fit(features, target)"
   ]
  },
  {
   "cell_type": "code",
   "execution_count": 7,
   "metadata": {
    "id": "Qilt5_XdafYe"
   },
   "outputs": [
    {
     "name": "stderr",
     "output_type": "stream",
     "text": [
      "c:\\Users\\RESTU\\AppData\\Local\\Programs\\Python\\Python312\\Lib\\site-packages\\sklearn\\base.py:493: UserWarning: X does not have valid feature names, but DecisionTreeClassifier was fitted with feature names\n",
      "  warnings.warn(\n",
      "c:\\Users\\RESTU\\AppData\\Local\\Programs\\Python\\Python312\\Lib\\site-packages\\sklearn\\base.py:493: UserWarning: X does not have valid feature names, but DecisionTreeClassifier was fitted with feature names\n",
      "  warnings.warn(\n"
     ]
    },
    {
     "data": {
      "text/plain": [
       "array([[1., 0., 0., 0.]])"
      ]
     },
     "execution_count": 7,
     "metadata": {},
     "output_type": "execute_result"
    }
   ],
   "source": [
    "#Mengambil sampel observasi dan membuat prediksi\n",
    "#Fungsi predict() => memeriksa kelas yang dimilikinya\n",
    "#Fungsi predict_proba() => memeriksa probabilitas kelas dari prediksi tersebut\n",
    "observation = [[0.013500, 0.977000, -0.071000, -1.8904, 2.4392, 0.9388]]  # Contoh data observasi\n",
    "model.predict(observation)\n",
    "model.predict_proba(observation)"
   ]
  },
  {
   "cell_type": "code",
   "execution_count": 8,
   "metadata": {
    "id": "X0kEroBEhSA7"
   },
   "outputs": [
    {
     "name": "stdout",
     "output_type": "stream",
     "text": [
      "dot: graph is too large for cairo-renderer bitmaps. Scaling by 0.733946 to fit\n",
      "\n",
      "dot: graph is too large for cairo-renderer bitmaps. Scaling by 0.733946 to fit\n",
      "\n"
     ]
    },
    {
     "data": {
      "text/plain": [
       "True"
      ]
     },
     "execution_count": 8,
     "metadata": {},
     "output_type": "execute_result"
    }
   ],
   "source": [
    "# Membuat grafik visualisasi Decision Tree\n",
    "dot_data = tree.export_graphviz(decisiontree, out_file=None, \n",
    "                                 feature_names=features.columns, \n",
    "                                 class_names=target.unique(),\n",
    "                                 filled=True, rounded=True, \n",
    "                                 special_characters=True)\n",
    "\n",
    "# Menggunakan pydotplus untuk menggambar Decision Tree\n",
    "graph = pydotplus.graph_from_dot_data(dot_data)\n",
    "Image(graph.create_png())\n",
    "\n",
    "# Menyimpan grafik ke file\n",
    "graph.write_png('grafik/fitness.png')"
   ]
  }
 ],
 "metadata": {
  "colab": {
   "collapsed_sections": [],
   "name": "DecisionTree.ipynb",
   "provenance": []
  },
  "kernelspec": {
   "display_name": "Python 3",
   "language": "python",
   "name": "python3"
  },
  "language_info": {
   "codemirror_mode": {
    "name": "ipython",
    "version": 3
   },
   "file_extension": ".py",
   "mimetype": "text/x-python",
   "name": "python",
   "nbconvert_exporter": "python",
   "pygments_lexer": "ipython3",
   "version": "3.12.2"
  }
 },
 "nbformat": 4,
 "nbformat_minor": 4
}
